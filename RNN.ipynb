{
 "cells": [
  {
   "cell_type": "code",
   "execution_count": 1,
   "metadata": {},
   "outputs": [],
   "source": [
    "import tensorflow as tf\n",
    "import numpy as np\n",
    "import cv2, glob, os\n",
    "from sklearn.model_selection import train_test_split"
   ]
  },
  {
   "cell_type": "code",
   "execution_count": 2,
   "metadata": {},
   "outputs": [],
   "source": [
    "dataset_path = 'dataset/'\n",
    "classes = 4\n",
    "num_epochs = 5\n",
    "learning_rate = 0.01\n",
    "width = 128\n",
    "height = 128\n",
    "Y = None\n",
    "Z = None\n",
    "tf.reset_default_graph()"
   ]
  },
  {
   "cell_type": "code",
   "execution_count": 3,
   "metadata": {},
   "outputs": [],
   "source": [
    "def load_frames():\n",
    "    global Z\n",
    "    global Y\n",
    "    label = None\n",
    "    X = []\n",
    "    filenum = 0\n",
    "    Y = np.zeros((40,4))\n",
    "    for file in glob.glob(dataset_path + '**', recursive=True):\n",
    "        num_frame = 0\n",
    "        if file == dataset_path:\n",
    "            continue\n",
    "        if os.path.isdir(file):\n",
    "            x_list = []\n",
    "            label = file[len(dataset_path):] #label   \n",
    "        if os.path.isfile(file):\n",
    "            x_list = []\n",
    "            vidcap = cv2.VideoCapture(file)\n",
    "            while(vidcap.isOpened()):\n",
    "                ret, frame = vidcap.read()\n",
    "                if ret == True:\n",
    "                    frame = cv2.cvtColor(frame, cv2.COLOR_BGR2GRAY)\n",
    "                    each_frame = cv2.resize(frame, (height, width))\n",
    "                    x_list.append(np.array(each_frame))\n",
    "                    num_frame +=1\n",
    "                else:\n",
    "                    X.append(np.array(x_list))\n",
    "                    vidcap.release()\n",
    "            Y[filenum, int(label)] = 1.0\n",
    "            filenum += 1\n",
    "\n",
    "   \n",
    "    Z = np.array(X)"
   ]
  },
  {
   "cell_type": "code",
   "execution_count": 4,
   "metadata": {},
   "outputs": [],
   "source": [
    "load_frames()"
   ]
  },
  {
   "cell_type": "code",
   "execution_count": 5,
   "metadata": {},
   "outputs": [],
   "source": [
    "X, X_test, Y, Y_test = train_test_split(Z,Y, test_size=0.0, random_state=30)"
   ]
  },
  {
   "cell_type": "code",
   "execution_count": 6,
   "metadata": {},
   "outputs": [
    {
     "data": {
      "text/plain": [
       "(82, 128, 128)"
      ]
     },
     "execution_count": 6,
     "metadata": {},
     "output_type": "execute_result"
    }
   ],
   "source": [
    "X[0].shape"
   ]
  },
  {
   "cell_type": "code",
   "execution_count": 7,
   "metadata": {},
   "outputs": [],
   "source": [
    "class RNN:\n",
    "    \n",
    "    def vanilla_rnn(self, prev_state, x):\n",
    "        \n",
    "        self.U_w = tf.get_variable('U_w', shape=[height*width, 100], dtype=tf.float64)\n",
    "        self.U_b = tf.get_variable('U_b', shape=[1, 100], dtype=tf.float64)\n",
    "        \n",
    "        self.W_w = tf.get_variable('W_w', shape=[200,100],  dtype=tf.float64)\n",
    "        self.W_b = tf.get_variable('W_b', shape=[1,100],  dtype=tf.float64)\n",
    "        \n",
    "        vectorized_input = tf.reshape(x, (1, height*width))\n",
    "        transform_input = tf.nn.relu(tf.matmul(vectorized_input, self.U_w) + self.U_b)\n",
    "        state_concat = tf.concat([transform_input, prev_state], 1)\n",
    "        next_state = tf.nn.relu(tf.matmul(state_concat, self.W_w) + self.W_b)\n",
    "        \n",
    "        return next_state\n",
    "        \n",
    "    \n",
    "    def __init__(self):\n",
    "        \n",
    "        self.X_placeholder = tf.placeholder(tf.float64, [None, width, height])\n",
    "        self.Y_placeholder = tf.placeholder(tf.int64, [1, classes])\n",
    "    \n",
    "        self.init_state = tf.placeholder(tf.float64, [1,100])\n",
    "        \n",
    "        self.O_w = tf.Variable(np.random.rand(100,4), dtype=tf.float64)\n",
    "        self.O_b = tf.Variable(np.random.rand(1,4), dtype=tf.float64)\n",
    "        \n",
    "        self.states = tf.scan(self.vanilla_rnn, self.X_placeholder, initializer=self.init_state, name='states')\n",
    "        \n",
    "        \n",
    "        logit = tf.matmul(self.states[-1], self.O_w) + self.O_b\n",
    "        self.prediction = tf.nn.softmax(logit)\n",
    "       \n",
    "        self.loss = tf.nn.softmax_cross_entropy_with_logits_v2(logits=logit,labels=self.Y_placeholder)\n",
    "        self.train_step = tf.train.AdamOptimizer(learning_rate).minimize(self.loss)"
   ]
  },
  {
   "cell_type": "code",
   "execution_count": 8,
   "metadata": {},
   "outputs": [
    {
     "name": "stdout",
     "output_type": "stream",
     "text": [
      "Step 0 | Loss 941753\n",
      "Step 1 | Loss 57.5039\n",
      "Step 2 | Loss 56.6964\n",
      "Step 3 | Loss 56.3878\n",
      "Step 4 | Loss 56.2668\n"
     ]
    }
   ],
   "source": [
    "with tf.Session() as sess:\n",
    "    loss = 0.0\n",
    "    \n",
    "    model = RNN()\n",
    "    sess.run(tf.global_variables_initializer())\n",
    "    \n",
    "    for epoch in range(num_epochs):\n",
    "        \n",
    "        for num_data in range(Y.shape[0]):\n",
    "            _current_state = np.zeros((1,100))\n",
    "            label = np.reshape(Y[num_data], (1,4))\n",
    "            \n",
    "            _loss, _train_step, _current_state, _prediction = sess.run(\n",
    "                [model.loss, model.train_step, model.states, model.prediction],\n",
    "                feed_dict = {\n",
    "                    model.X_placeholder:X[num_data],\n",
    "                    model.Y_placeholder:label,\n",
    "                    model.init_state:_current_state\n",
    "                })\n",
    "            loss += _loss\n",
    "        print(\"Step %d | Loss %g\"%(epoch, loss))\n",
    "        loss = 0.0          "
   ]
  }
 ],
 "metadata": {
  "kernelspec": {
   "display_name": "nasa",
   "language": "python",
   "name": "nasa"
  },
  "language_info": {
   "codemirror_mode": {
    "name": "ipython",
    "version": 3
   },
   "file_extension": ".py",
   "mimetype": "text/x-python",
   "name": "python",
   "nbconvert_exporter": "python",
   "pygments_lexer": "ipython3",
   "version": "3.5.2"
  }
 },
 "nbformat": 4,
 "nbformat_minor": 2
}
